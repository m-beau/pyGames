{
 "cells": [
  {
   "cell_type": "code",
   "execution_count": 95,
   "id": "91eda71b-d0b1-4a4a-ba2b-6c46f61c5ff1",
   "metadata": {},
   "outputs": [],
   "source": [
    "import numpy as np\n",
    "import getpass"
   ]
  },
  {
   "cell_type": "markdown",
   "id": "84dd6533-6c4c-4b03-be56-16122e520b0f",
   "metadata": {},
   "source": [
    "# Paper, Rock, Scissors!"
   ]
  },
  {
   "cell_type": "code",
   "execution_count": 232,
   "id": "e9a1915f-b8c7-4a66-8137-083d1645bd29",
   "metadata": {},
   "outputs": [
    {
     "name": "stdin",
     "output_type": "stream",
     "text": [
      "Player 1's name: max\n",
      "Player 2's name: momo\n",
      "max: Paper, Rock, Scissors? ····\n"
     ]
    },
    {
     "name": "stdout",
     "output_type": "stream",
     "text": [
      "\n"
     ]
    },
    {
     "name": "stdin",
     "output_type": "stream",
     "text": [
      "momo: Paper, Rock, Scissors? Scissors\n"
     ]
    },
    {
     "name": "stdout",
     "output_type": "stream",
     "text": [
      "max crushed momo!\n"
     ]
    }
   ],
   "source": [
    "player1 = None\n",
    "player2 = None\n",
    "winner = None\n",
    "\n",
    "authorized = ['Paper', 'Rock', 'Scissors']\n",
    "\n",
    "name1 = input(\"Player 1's name:\")\n",
    "name2 = input(\"Player 2's name:\")\n",
    "\n",
    "while winner is None:\n",
    "    while player1 is None:\n",
    "        play = getpass.getpass(prompt=f\"{name1}: Paper, Rock, Scissors?\")\n",
    "        print(\"\\r\")\n",
    "        if play not in authorized:\n",
    "            print('Check your spelling!')\n",
    "            continue\n",
    "        player1 = play\n",
    "\n",
    "    while player2 is None:\n",
    "        play = input(f\"{name2}: Paper, Rock, Scissors?\")\n",
    "        if play not in authorized:\n",
    "            print('Check your spelling!')\n",
    "            continue\n",
    "        player2 = play\n",
    "                      \n",
    "    if player1 == player2:\n",
    "        print(\"Tie!\")\n",
    "        player1 = None\n",
    "        player2 = None\n",
    "\n",
    "    if player1 == \"Paper\":\n",
    "        if player2 == \"Rock\":\n",
    "            winner = name1\n",
    "        elif player2 == \"Scissors\":\n",
    "            winner = name2\n",
    "\n",
    "    if player1 == \"Rock\":\n",
    "        if player2 == \"Paper\":\n",
    "            winner = name2\n",
    "        elif player2 == \"Scissors\":\n",
    "            winner = name1\n",
    "            \n",
    "    if player1 == \"Scissors\":\n",
    "        if player2 == \"Rock\":\n",
    "            winner = name2\n",
    "        elif player2 == \"Paper\":\n",
    "            winner = name1\n",
    "\n",
    "loser = [n for n in [name1,name2] if n!=winner][0]\n",
    "print(f\"{winner} crushed {loser}!\")"
   ]
  },
  {
   "cell_type": "markdown",
   "id": "fa9babe2-a49d-4052-885c-69cb397bfd30",
   "metadata": {},
   "source": [
    "# Hangman"
   ]
  },
  {
   "cell_type": "code",
   "execution_count": 233,
   "id": "085aed9b-8433-456c-ba15-dac0d8a8e988",
   "metadata": {},
   "outputs": [],
   "source": [
    "word_to_guess = \"blitzkrieg\""
   ]
  },
  {
   "cell_type": "code",
   "execution_count": 234,
   "id": "e56cef99-7cd9-4703-80aa-294033acd511",
   "metadata": {},
   "outputs": [],
   "source": [
    "hangman_states = [\"\",\n",
    "\"\"\"\n",
    "___\n",
    "\"\"\",\n",
    "\"\"\"\n",
    " |\n",
    " |\n",
    " |\n",
    " |\n",
    " |\n",
    "___\n",
    "\"\"\",\n",
    "\"\"\"\n",
    "  _____\n",
    " |\n",
    " |\n",
    " |\n",
    " |\n",
    " |\n",
    "___\n",
    "\"\"\",\n",
    "\"\"\"\n",
    "  _____\n",
    " |  !\n",
    " |\n",
    " |\n",
    " |\n",
    " |\n",
    "___\n",
    "\"\"\",\n",
    "\"\"\"\n",
    "  _____\n",
    " |  !\n",
    " |  O\n",
    " |\n",
    " |\n",
    " |\n",
    "___\n",
    "\"\"\",\n",
    "\"\"\"\n",
    "  _____\n",
    " |  !\n",
    " |  O\n",
    " |  1\n",
    " |  1\n",
    " | \n",
    "___\n",
    "\"\"\",\n",
    "\"\"\"\n",
    "  _____\n",
    " |  !\n",
    " |  O\n",
    " | /1\n",
    " |  1\n",
    " |\n",
    "___\n",
    "\"\"\",\n",
    "\"\"\"\n",
    "  _____\n",
    " |  !\n",
    " |  O\n",
    " | /1\\\\\n",
    " |  1\n",
    " | \n",
    "___\n",
    "\"\"\",\n",
    "\"\"\"\n",
    "  _____\n",
    " |  !\n",
    " |  O\n",
    " | /1\\\\\n",
    " |  1\n",
    " | / \n",
    "___\n",
    "\"\"\",\n",
    "\"\"\"\n",
    "  _____\n",
    " |  !\n",
    " |  O\n",
    " | /1\\\\\n",
    " |  1\n",
    " | / \\\\\n",
    "___\n",
    "\"\"\"]"
   ]
  },
  {
   "cell_type": "code",
   "execution_count": 235,
   "id": "2d5efa5f-ce9a-4da6-b8da-3be1f7266e28",
   "metadata": {
    "tags": []
   },
   "outputs": [
    {
     "name": "stdout",
     "output_type": "stream",
     "text": [
      "\n",
      "Guess the word:\n",
      "_ _ _ _ _ _ _ _ _ _\n",
      "\n",
      "\n"
     ]
    },
    {
     "name": "stdin",
     "output_type": "stream",
     "text": [
      "Pick a letter (a-z): e\n"
     ]
    },
    {
     "name": "stdout",
     "output_type": "stream",
     "text": [
      "Good job, you found a letter!\n",
      "\n",
      "Guess the word:\n",
      "_ _ _ _ _ _ _ _ e _\n",
      "\n",
      "\n"
     ]
    },
    {
     "name": "stdin",
     "output_type": "stream",
     "text": [
      "Pick a letter (a-z): a\n"
     ]
    },
    {
     "name": "stdout",
     "output_type": "stream",
     "text": [
      "Whoops! Wrong letter\n",
      "\n",
      "Guess the word:\n",
      "_ _ _ _ _ _ _ _ e _\n",
      "\n",
      "___\n",
      "\n",
      "\n"
     ]
    },
    {
     "name": "stdin",
     "output_type": "stream",
     "text": [
      "Pick a letter (a-z): o\n"
     ]
    },
    {
     "name": "stdout",
     "output_type": "stream",
     "text": [
      "Whoops! Wrong letter\n",
      "\n",
      "Guess the word:\n",
      "_ _ _ _ _ _ _ _ e _\n",
      "\n",
      " |\n",
      " |\n",
      " |\n",
      " |\n",
      " |\n",
      "___\n",
      "\n",
      "\n"
     ]
    },
    {
     "name": "stdin",
     "output_type": "stream",
     "text": [
      "Pick a letter (a-z): u\n"
     ]
    },
    {
     "name": "stdout",
     "output_type": "stream",
     "text": [
      "Whoops! Wrong letter\n",
      "\n",
      "Guess the word:\n",
      "_ _ _ _ _ _ _ _ e _\n",
      "\n",
      "  _____\n",
      " |\n",
      " |\n",
      " |\n",
      " |\n",
      " |\n",
      "___\n",
      "\n",
      "\n"
     ]
    },
    {
     "name": "stdin",
     "output_type": "stream",
     "text": [
      "Pick a letter (a-z): i\n"
     ]
    },
    {
     "name": "stdout",
     "output_type": "stream",
     "text": [
      "Good job, you found a letter!\n",
      "\n",
      "Guess the word:\n",
      "_ _ i _ _ _ _ i e _\n",
      "\n",
      "  _____\n",
      " |\n",
      " |\n",
      " |\n",
      " |\n",
      " |\n",
      "___\n",
      "\n",
      "\n"
     ]
    },
    {
     "name": "stdin",
     "output_type": "stream",
     "text": [
      "Pick a letter (a-z): s\n"
     ]
    },
    {
     "name": "stdout",
     "output_type": "stream",
     "text": [
      "Whoops! Wrong letter\n",
      "\n",
      "Guess the word:\n",
      "_ _ i _ _ _ _ i e _\n",
      "\n",
      "  _____\n",
      " |  !\n",
      " |\n",
      " |\n",
      " |\n",
      " |\n",
      "___\n",
      "\n",
      "\n"
     ]
    },
    {
     "name": "stdin",
     "output_type": "stream",
     "text": [
      "Pick a letter (a-z): n\n"
     ]
    },
    {
     "name": "stdout",
     "output_type": "stream",
     "text": [
      "Whoops! Wrong letter\n",
      "\n",
      "Guess the word:\n",
      "_ _ i _ _ _ _ i e _\n",
      "\n",
      "  _____\n",
      " |  !\n",
      " |  O\n",
      " |\n",
      " |\n",
      " |\n",
      "___\n",
      "\n",
      "\n"
     ]
    },
    {
     "name": "stdin",
     "output_type": "stream",
     "text": [
      "Pick a letter (a-z): r\n"
     ]
    },
    {
     "name": "stdout",
     "output_type": "stream",
     "text": [
      "Good job, you found a letter!\n",
      "\n",
      "Guess the word:\n",
      "_ _ i _ _ _ r i e _\n",
      "\n",
      "  _____\n",
      " |  !\n",
      " |  O\n",
      " |\n",
      " |\n",
      " |\n",
      "___\n",
      "\n",
      "\n"
     ]
    },
    {
     "name": "stdin",
     "output_type": "stream",
     "text": [
      "Pick a letter (a-z): m\n"
     ]
    },
    {
     "name": "stdout",
     "output_type": "stream",
     "text": [
      "Whoops! Wrong letter\n",
      "\n",
      "Guess the word:\n",
      "_ _ i _ _ _ r i e _\n",
      "\n",
      "  _____\n",
      " |  !\n",
      " |  O\n",
      " |  1\n",
      " |  1\n",
      " | \n",
      "___\n",
      "\n",
      "\n"
     ]
    },
    {
     "name": "stdin",
     "output_type": "stream",
     "text": [
      "Pick a letter (a-z): b\n"
     ]
    },
    {
     "name": "stdout",
     "output_type": "stream",
     "text": [
      "Good job, you found a letter!\n",
      "\n",
      "Guess the word:\n",
      "b _ i _ _ _ r i e _\n",
      "\n",
      "  _____\n",
      " |  !\n",
      " |  O\n",
      " |  1\n",
      " |  1\n",
      " | \n",
      "___\n",
      "\n",
      "\n"
     ]
    },
    {
     "name": "stdin",
     "output_type": "stream",
     "text": [
      "Pick a letter (a-z): c\n"
     ]
    },
    {
     "name": "stdout",
     "output_type": "stream",
     "text": [
      "Whoops! Wrong letter\n",
      "\n",
      "Guess the word:\n",
      "b _ i _ _ _ r i e _\n",
      "\n",
      "  _____\n",
      " |  !\n",
      " |  O\n",
      " | /1\n",
      " |  1\n",
      " |\n",
      "___\n",
      "\n",
      "\n"
     ]
    },
    {
     "name": "stdin",
     "output_type": "stream",
     "text": [
      "Pick a letter (a-z): d\n"
     ]
    },
    {
     "name": "stdout",
     "output_type": "stream",
     "text": [
      "Whoops! Wrong letter\n",
      "\n",
      "Guess the word:\n",
      "b _ i _ _ _ r i e _\n",
      "\n",
      "  _____\n",
      " |  !\n",
      " |  O\n",
      " | /1\\\n",
      " |  1\n",
      " | \n",
      "___\n",
      "\n",
      "\n"
     ]
    },
    {
     "name": "stdin",
     "output_type": "stream",
     "text": [
      "Pick a letter (a-z): t\n"
     ]
    },
    {
     "name": "stdout",
     "output_type": "stream",
     "text": [
      "Good job, you found a letter!\n",
      "\n",
      "Guess the word:\n",
      "b _ i t _ _ r i e _\n",
      "\n",
      "  _____\n",
      " |  !\n",
      " |  O\n",
      " | /1\\\n",
      " |  1\n",
      " | \n",
      "___\n",
      "\n",
      "\n"
     ]
    },
    {
     "name": "stdin",
     "output_type": "stream",
     "text": [
      "Pick a letter (a-z): p\n"
     ]
    },
    {
     "name": "stdout",
     "output_type": "stream",
     "text": [
      "Whoops! Wrong letter\n",
      "Bobby is hanging there...\n",
      "\n",
      "Guess the word:\n",
      "b _ i t _ _ r i e _\n",
      "\n",
      "  _____\n",
      " |  !\n",
      " |  O\n",
      " | /1\\\n",
      " |  1\n",
      " | / \n",
      "___\n",
      "\n",
      "\n"
     ]
    },
    {
     "name": "stdin",
     "output_type": "stream",
     "text": [
      "Pick a letter (a-z): z\n"
     ]
    },
    {
     "name": "stdout",
     "output_type": "stream",
     "text": [
      "Good job, you found a letter!\n",
      "\n",
      "Guess the word:\n",
      "b _ i t z _ r i e _\n",
      "\n",
      "  _____\n",
      " |  !\n",
      " |  O\n",
      " | /1\\\n",
      " |  1\n",
      " | / \n",
      "___\n",
      "\n",
      "\n"
     ]
    },
    {
     "name": "stdin",
     "output_type": "stream",
     "text": [
      "Pick a letter (a-z): l\n"
     ]
    },
    {
     "name": "stdout",
     "output_type": "stream",
     "text": [
      "Good job, you found a letter!\n",
      "\n",
      "Guess the word:\n",
      "b l i t z _ r i e _\n",
      "\n",
      "  _____\n",
      " |  !\n",
      " |  O\n",
      " | /1\\\n",
      " |  1\n",
      " | / \n",
      "___\n",
      "\n",
      "\n"
     ]
    },
    {
     "name": "stdin",
     "output_type": "stream",
     "text": [
      "Pick a letter (a-z): k\n"
     ]
    },
    {
     "name": "stdout",
     "output_type": "stream",
     "text": [
      "Good job, you found a letter!\n",
      "\n",
      "Guess the word:\n",
      "b l i t z k r i e _\n",
      "\n",
      "  _____\n",
      " |  !\n",
      " |  O\n",
      " | /1\\\n",
      " |  1\n",
      " | / \n",
      "___\n",
      "\n",
      "\n"
     ]
    },
    {
     "name": "stdin",
     "output_type": "stream",
     "text": [
      "Pick a letter (a-z): g\n"
     ]
    },
    {
     "name": "stdout",
     "output_type": "stream",
     "text": [
      "Good job, you found a letter!\n",
      "\n",
      "Congrats, you saved Bobby!!!\n"
     ]
    }
   ],
   "source": [
    "current_guess = [\"_\"]*len(word_to_guess)\n",
    "spaces =  [\" \"]*len(word_to_guess)\n",
    "hangman_state = 0\n",
    "tried_letters = []\n",
    "while current_guess != word_to_guess:\n",
    "    guess_disp = list(zip(current_guess, spaces))\n",
    "    guess_disp = [item for sublist in guess_disp for item in sublist]\n",
    "    guess_disp = \"\".join(guess_disp)[:-1]\n",
    "    \n",
    "    disp_str = \"\\nGuess the word:\\n\"+guess_disp+'\\n'+hangman_states[hangman_state]+'\\n'\n",
    "    \n",
    "    print(disp_str)\n",
    "    \n",
    "    # Process input\n",
    "    letter = input(\"Pick a letter (a-z):\")\n",
    "    if len(letter)!=1:\n",
    "        print(\"You should input one letter!\")\n",
    "    if ord(letter)<97 or ord(letter)>122:\n",
    "        print(\"Your letter must be lowercase between a and z!\")\n",
    "        continue\n",
    "    if letter in tried_letters:\n",
    "        print(f\"You already tried {letter}!\")\n",
    "        continue\n",
    "    tried_letters.append(letter)\n",
    "    \n",
    "    # Game rules\n",
    "    if letter not in word_to_guess:\n",
    "        print(\"Whoops! Wrong letter\")\n",
    "        hangman_state+=1\n",
    "        if hangman_state == len(hangman_states)-2:\n",
    "            print(\"Bobby is hanging there...\")\n",
    "        elif hangman_state == len(hangman_states)-1:\n",
    "            print(f\"You left Bobby down... The word was {word_to_guess}. Try again!\")\n",
    "            print(hangman_states[hangman_state])\n",
    "            break\n",
    "    else:\n",
    "        print(\"Good job, you found a letter!\")\n",
    "        letter_i = letter == np.array([w for w in word_to_guess])\n",
    "        current_guess = np.array([w for w in current_guess])\n",
    "        current_guess[letter_i] = letter\n",
    "        current_guess = \"\".join(list(current_guess))\n",
    "        \n",
    "    if current_guess == word_to_guess:\n",
    "        print(\"\\nCongrats, you saved Bobby!!!\")"
   ]
  },
  {
   "cell_type": "markdown",
   "id": "e56076d9-497f-488a-b712-64818a0d9505",
   "metadata": {},
   "source": [
    "# Tic, tac, toe!"
   ]
  },
  {
   "cell_type": "code",
   "execution_count": 236,
   "id": "7c49a91a-04e7-4ada-92ed-665661c3abe4",
   "metadata": {},
   "outputs": [],
   "source": [
    "import numpy as np\n",
    "\n",
    "def check_winning_board(board):\n",
    "    col_sums = np.sum(board, axis = 0)\n",
    "    row_sums = np.sum(board, axis = 1)\n",
    "    diag_sum1 = np.trace(board)\n",
    "    diag_sum2 = np.trace(np.fliplr(board))\n",
    "    \n",
    "    all_values = np.append(col_sums, row_sums)\n",
    "    all_values = np.append(all_values, [diag_sum1, diag_sum2])\n",
    "    \n",
    "    return 3 in all_values\n",
    "\n",
    "def display_board(board):\n",
    "    board_display = []\n",
    "    for board_row in board:\n",
    "        board_display_row = []\n",
    "        for board_val in board_row:\n",
    "            if board_val==2:\n",
    "                board_val = 'x'\n",
    "            elif board_val==1:\n",
    "                board_val = 'o'\n",
    "            else:\n",
    "                board_val = ' '\n",
    "            board_display_row.append(board_val)\n",
    "        board_display.append(board_display_row)\n",
    "    board_display_render = f\"\"\"\n",
    "    {board_display[0][0]}|{board_display[0][1]}|{board_display[0][2]}\n",
    "    _____\n",
    "    {board_display[1][0]}|{board_display[1][1]}|{board_display[1][2]}\n",
    "    _____\n",
    "    {board_display[2][0]}|{board_display[2][1]}|{board_display[2][2]}\n",
    "    \"\"\"\n",
    "    print(board_display_render)\n",
    "    \n",
    "def board_is_full(board):\n",
    "    for row in board:\n",
    "        for val in row:\n",
    "            if val == 0:\n",
    "                return False\n",
    "    return True"
   ]
  },
  {
   "cell_type": "code",
   "execution_count": 133,
   "id": "ea9671e8-3d7f-4f3b-8be2-8bb694bdf0ce",
   "metadata": {},
   "outputs": [
    {
     "name": "stdin",
     "output_type": "stream",
     "text": [
      "Player 1's name: max\n",
      "Player 2's name: spencer\n"
     ]
    }
   ],
   "source": [
    "name1 = input(\"Player 1's name:\")\n",
    "name2 = input(\"Player 2's name:\")"
   ]
  },
  {
   "cell_type": "code",
   "execution_count": 237,
   "id": "c4b9bf7c-74f6-4637-9f42-847300533cc5",
   "metadata": {},
   "outputs": [
    {
     "name": "stdout",
     "output_type": "stream",
     "text": [
      "\n",
      "     | | \n",
      "    _____\n",
      "     | | \n",
      "    _____\n",
      "     | | \n",
      "    \n"
     ]
    },
    {
     "name": "stdin",
     "output_type": "stream",
     "text": [
      "Player 1 pick a location (row, column) 1 1\n"
     ]
    },
    {
     "name": "stdout",
     "output_type": "stream",
     "text": [
      "\n",
      "    o| | \n",
      "    _____\n",
      "     | | \n",
      "    _____\n",
      "     | | \n",
      "    \n"
     ]
    },
    {
     "name": "stdin",
     "output_type": "stream",
     "text": [
      "Player 2 pick a location (row, column) 1 2\n"
     ]
    },
    {
     "name": "stdout",
     "output_type": "stream",
     "text": [
      "\n",
      "    o|x| \n",
      "    _____\n",
      "     | | \n",
      "    _____\n",
      "     | | \n",
      "    \n"
     ]
    },
    {
     "name": "stdin",
     "output_type": "stream",
     "text": [
      "Player 1 pick a location (row, column) 2 1\n"
     ]
    },
    {
     "name": "stdout",
     "output_type": "stream",
     "text": [
      "\n",
      "    o|x| \n",
      "    _____\n",
      "    o| | \n",
      "    _____\n",
      "     | | \n",
      "    \n"
     ]
    },
    {
     "name": "stdin",
     "output_type": "stream",
     "text": [
      "Player 2 pick a location (row, column) 3 1\n"
     ]
    },
    {
     "name": "stdout",
     "output_type": "stream",
     "text": [
      "\n",
      "    o|x| \n",
      "    _____\n",
      "    o| | \n",
      "    _____\n",
      "    x| | \n",
      "    \n"
     ]
    },
    {
     "name": "stdin",
     "output_type": "stream",
     "text": [
      "Player 1 pick a location (row, column) 2 2\n"
     ]
    },
    {
     "name": "stdout",
     "output_type": "stream",
     "text": [
      "\n",
      "    o|x| \n",
      "    _____\n",
      "    o|o| \n",
      "    _____\n",
      "    x| | \n",
      "    \n"
     ]
    },
    {
     "name": "stdin",
     "output_type": "stream",
     "text": [
      "Player 2 pick a location (row, column) 2 3\n"
     ]
    },
    {
     "name": "stdout",
     "output_type": "stream",
     "text": [
      "\n",
      "    o|x| \n",
      "    _____\n",
      "    o|o|x\n",
      "    _____\n",
      "    x| | \n",
      "    \n"
     ]
    },
    {
     "name": "stdin",
     "output_type": "stream",
     "text": [
      "Player 1 pick a location (row, column) 3 3\n"
     ]
    },
    {
     "name": "stdout",
     "output_type": "stream",
     "text": [
      "\n",
      "    o|x| \n",
      "    _____\n",
      "    o|o|x\n",
      "    _____\n",
      "    x| |o\n",
      "    \n",
      "Player 1 won!\n"
     ]
    }
   ],
   "source": [
    "# initialize empty board\n",
    "board = \\\n",
    "[[0,0,0],\n",
    " [0,0,0],\n",
    " [0,0,0]]\n",
    "\n",
    "winner = None\n",
    "\n",
    "\n",
    "while winner is None:\n",
    "    \n",
    "    player1_played = None\n",
    "    player2_played = None\n",
    "    \n",
    "    while player1_played is None and winner is None:\n",
    "        # make player 1 pick location\n",
    "        display_board(board)\n",
    "        loc_1 = input(\"Player 1 pick a location (row, column)\")\n",
    "        if len(loc_1) !=3:\n",
    "            print(\"You must input your location following this format: 'row column'\")\n",
    "            continue\n",
    "        row = int(loc_1[0])\n",
    "        col = int(loc_1[2])\n",
    "        if row < 1 or row > 3:\n",
    "            print(\"You must pick a row between 1 and 3!\")\n",
    "            continue\n",
    "        if col < 1 or col > 3:\n",
    "            print(\"You must pick a column between 1 and 3!\")\n",
    "            continue\n",
    "\n",
    "        # check whether location already busy with player 1 or player 2 (0)\n",
    "        value = board[row-1][col-1]\n",
    "        if value == 0:\n",
    "            # if check passed, add 1 to picked location\n",
    "            board[row-1][col-1] = 1\n",
    "        else:\n",
    "            print(\"Location already busy - pick another one!\")\n",
    "            continue\n",
    "\n",
    "        # make board with only values of 1 (replace 2s with 0s)\n",
    "        board_1 = []\n",
    "        for board_row in board:\n",
    "            board_1_row = []\n",
    "            for board_val in board_row:\n",
    "                if board_val==2:\n",
    "                    board_val = 0\n",
    "                board_1_row.append(board_val)\n",
    "            board_1.append(board_1_row)\n",
    "\n",
    "        # compare board against winning combinations to check if player 1 won!\n",
    "        if check_winning_board(board_1):\n",
    "            winner = 1\n",
    "            display_board(board)\n",
    "            print(\"Player 1 won!\")\n",
    "        player1_played = True\n",
    "        \n",
    "    if board_is_full(board) and winner is not None:\n",
    "        print(\"That's a tie!\")\n",
    "        winner = 0\n",
    "\n",
    "    while player2_played is None and winner is None:\n",
    "        # make player 2 pick location\n",
    "        display_board(board)\n",
    "        loc_2 = input(\"Player 2 pick a location (row, column)\")\n",
    "        if len(loc_2) !=3:\n",
    "            print(\"You must input your location following this format: 'row column'\")\n",
    "            continue\n",
    "        row = int(loc_2[0])\n",
    "        col = int(loc_2[2])\n",
    "        if row < 1 or row > 3:\n",
    "            print(\"You must pick a row between 1 and 3!\")\n",
    "            continue\n",
    "        if col < 1 or col > 3:\n",
    "            print(\"You must pick a column between 1 and 3!\")\n",
    "            continue\n",
    "\n",
    "        # check whether location already busy with player 1 or player 2 (0)\n",
    "        value = board[row-1][col-1]\n",
    "        if value == 0:\n",
    "            # if check passed, add 1 to picked location\n",
    "            board[row-1][col-1] = 2\n",
    "        else:\n",
    "            print(\"Location already busy - pick another one!\")\n",
    "            continue\n",
    "\n",
    "        # make board with only values of 1 (replace 2s with 0s)\n",
    "        board_2 = []\n",
    "        for board_row in board:\n",
    "            board_2_row = []\n",
    "            for board_val in board_row:\n",
    "                if board_val==1:\n",
    "                    board_val = 0\n",
    "                board_2_row.append(board_val)\n",
    "            board_2.append(board_2_row)\n",
    "\n",
    "        # compare board against winning combinations to check if player 1 won!\n",
    "        if check_winning_board(board_2):\n",
    "            winner = 2\n",
    "            display_board(board)\n",
    "            print(\"Player 2 won!\")\n",
    "        player2_played = True\n",
    "        \n",
    "    if board_is_full(board) and winner is not None:\n",
    "        print(\"That's a tie!\")\n",
    "        winner = 0"
   ]
  },
  {
   "cell_type": "code",
   "execution_count": null,
   "id": "cac42da2-3eef-40d9-b46d-a2255bac4692",
   "metadata": {},
   "outputs": [],
   "source": []
  }
 ],
 "metadata": {
  "kernelspec": {
   "display_name": "Python [conda env:npyx]",
   "language": "python",
   "name": "conda-env-npyx-py"
  },
  "language_info": {
   "codemirror_mode": {
    "name": "ipython",
    "version": 3
   },
   "file_extension": ".py",
   "mimetype": "text/x-python",
   "name": "python",
   "nbconvert_exporter": "python",
   "pygments_lexer": "ipython3",
   "version": "3.7.12"
  }
 },
 "nbformat": 4,
 "nbformat_minor": 5
}
